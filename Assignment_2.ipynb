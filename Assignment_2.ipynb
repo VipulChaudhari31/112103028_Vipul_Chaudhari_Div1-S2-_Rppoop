{
 "cells": [
  {
   "cell_type": "code",
   "execution_count": 1,
   "id": "505fd7e4",
   "metadata": {},
   "outputs": [
    {
     "name": "stdout",
     "output_type": "stream",
     "text": [
      "Eats plants\n",
      "Eats flesh\n"
     ]
    }
   ],
   "source": [
    "class herbivores():\n",
    "    def eats(self):\n",
    "        print(\"Eats plants\")\n",
    "class carnivores():\n",
    "    def eats(self):\n",
    "        print(\"Eats flesh\")\n",
    "def func(obj):\n",
    "    obj.eats()\n",
    "h1=herbivores()\n",
    "c1=carnivores()\n",
    "func(h1)\n",
    "func(c1)"
   ]
  },
  {
   "cell_type": "code",
   "execution_count": 2,
   "id": "58a26190",
   "metadata": {},
   "outputs": [
    {
     "name": "stdout",
     "output_type": "stream",
     "text": [
      "Meows\n",
      "Roars\n"
     ]
    }
   ],
   "source": [
    "class animal:\n",
    "    def speaks(self):\n",
    "        print(\"...\")\n",
    "class cat(animal):\n",
    "    def eats(self):\n",
    "        print(\"Eats plants\")\n",
    "    def speaks(self):\n",
    "        print(\"Meows\")\n",
    "class lion(animal):\n",
    "    def eats(self):\n",
    "        print(\"Eats flesh\")\n",
    "    def speaks(self):\n",
    "        print(\"Roars\")\n",
    "animals=[cat(),lion()]\n",
    "def func(obj):\n",
    "    obj.eats()\n",
    "# h1=herbivores()\n",
    "# c1=carnivores()\n",
    "for animal in animals:\n",
    "    animal.speaks()"
   ]
  },
  {
   "cell_type": "code",
   "execution_count": null,
   "id": "f984646b",
   "metadata": {},
   "outputs": [],
   "source": []
  }
 ],
 "metadata": {
  "kernelspec": {
   "display_name": "Python 3 (ipykernel)",
   "language": "python",
   "name": "python3"
  },
  "language_info": {
   "codemirror_mode": {
    "name": "ipython",
    "version": 3
   },
   "file_extension": ".py",
   "mimetype": "text/x-python",
   "name": "python",
   "nbconvert_exporter": "python",
   "pygments_lexer": "ipython3",
   "version": "3.11.3"
  }
 },
 "nbformat": 4,
 "nbformat_minor": 5
}
