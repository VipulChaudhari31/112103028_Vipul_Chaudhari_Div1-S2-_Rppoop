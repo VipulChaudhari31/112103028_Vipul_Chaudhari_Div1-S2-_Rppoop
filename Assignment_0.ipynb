{
 "cells": [
  {
   "cell_type": "code",
   "execution_count": 1,
   "metadata": {},
   "outputs": [
    {
     "name": "stdout",
     "output_type": "stream",
     "text": [
      "Perimeter is: 70\n",
      "Area is: 276\n",
      "Enter length :3\n",
      "Enter breadth :2\n",
      "After changing length and breadth\n",
      "Perimeter is: 10.0\n",
      "Area is: 6.0\n"
     ]
    }
   ],
   "source": [
    "class rectangle():\n",
    "    def __init__(self):\n",
    "        self.l=12\n",
    "        self.b=23\n",
    "        \n",
    "    def perimeter(self):\n",
    "        a= 2*(self.l+self.b)\n",
    "        print(\"Perimeter is:\",a)\n",
    "        \n",
    "    def area(self):\n",
    "        e= self.l*self.b\n",
    "        print(\"Area is:\",e)\n",
    "        \n",
    "    def changedim(self):\n",
    "        self.l=float(input(\"Enter length :\"))\n",
    "        self.b=float(input(\"Enter breadth :\"))\n",
    "        \n",
    "g=rectangle()\n",
    "g.perimeter()\n",
    "g.area()\n",
    "\n",
    "g.changedim()\n",
    "print(\"After changing length and breadth\")\n",
    "g.perimeter()\n",
    "g.area()"
   ]
  },
  {
   "cell_type": "code",
   "execution_count": 2,
   "metadata": {},
   "outputs": [
    {
     "name": "stdout",
     "output_type": "stream",
     "text": [
      "Enter sides:4\n",
      "side 1 is 4.0\n",
      "area of square is: 16.0\n",
      "perimeter of square is: 16.0\n",
      "Enter sides:2\n",
      "Enter sides:5\n",
      "side 1 is 2.0\n",
      "side 2 is 5.0\n",
      "area of rectangle is: 10.0\n",
      "perimeter of rectangle is: 14.0\n"
     ]
    }
   ],
   "source": [
    "class polygon:\n",
    "    def __init__(self,n):\n",
    "        self.n=n\n",
    "        self.sides=[0 for i in range(n)]\n",
    "        \n",
    "    def inputsides(self):\n",
    "        self.sides=[float(input(\"Enter sides:\"))for i in range(self.n)]\n",
    "        \n",
    "    def disp(self):\n",
    "        for i in range(self.n):\n",
    "            print(\"side\",i+1,\"is\",self.sides[i])\n",
    "            \n",
    "class rectangle(polygon):\n",
    "    def __init__(self):\n",
    "        polygon.__init__(self,2)\n",
    "        \n",
    "    def area(self):\n",
    "        a,b=self.sides\n",
    "        are=a*b\n",
    "        print(\"area of rectangle is:\",are)\n",
    "        \n",
    "    def perimeter(self):\n",
    "        a,b=self.sides\n",
    "        peri=a+a+b+b\n",
    "        print(\"perimeter of rectangle is:\",peri)\n",
    "        \n",
    "class square(polygon):\n",
    "    def __init__(self):\n",
    "        polygon.__init__(self,1)\n",
    "        \n",
    "    def area(self):\n",
    "        a=self.sides[0]\n",
    "        are=a*a\n",
    "        print(\"area of square is:\",are)\n",
    "        \n",
    "    def perimeter(self):\n",
    "        a=self.sides[0]\n",
    "        peri=a+a+a+a\n",
    "        print(\"perimeter of square is:\",peri)\n",
    "        \n",
    "s=square()\n",
    "s.inputsides()\n",
    "s.disp()\n",
    "s.area()\n",
    "s.perimeter()\n",
    "\n",
    "r=rectangle()\n",
    "r.inputsides()\n",
    "r.disp()\n",
    "r.area()\n",
    "r.perimeter()"
   ]
  },
  {
   "cell_type": "code",
   "execution_count": null,
   "metadata": {},
   "outputs": [],
   "source": []
  },
  {
   "cell_type": "code",
   "execution_count": null,
   "metadata": {},
   "outputs": [],
   "source": []
  },
  {
   "cell_type": "code",
   "execution_count": null,
   "metadata": {},
   "outputs": [],
   "source": []
  }
 ],
 "metadata": {
  "kernelspec": {
   "display_name": "Python 3 (ipykernel)",
   "language": "python",
   "name": "python3"
  },
  "language_info": {
   "codemirror_mode": {
    "name": "ipython",
    "version": 3
   },
   "file_extension": ".py",
   "mimetype": "text/x-python",
   "name": "python",
   "nbconvert_exporter": "python",
   "pygments_lexer": "ipython3",
   "version": "3.11.3"
  }
 },
 "nbformat": 4,
 "nbformat_minor": 2
}
