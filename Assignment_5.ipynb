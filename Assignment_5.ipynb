{
 "cells": [
  {
   "cell_type": "code",
   "execution_count": 1,
   "metadata": {},
   "outputs": [],
   "source": [
    "from tkinter import Tk, Label, Y, RIGHT ,LEFT\n",
    "root = Tk()\n",
    "label1 = Label(root, text='Welcome To Python!', background='red')\n",
    "label2 = Label(root, text='Have a Good Day', background='green')\n",
    "label1.pack(fill= Y, padx=100, ipady=25, side=LEFT)  # Pack from right to left\n",
    "label2.pack(fill= Y, padx=200, ipady=40, side=LEFT)\n",
    "root.mainloop()"
   ]
  },
  {
   "cell_type": "code",
   "execution_count": null,
   "metadata": {},
   "outputs": [],
   "source": [
    " "
   ]
  },
  {
   "cell_type": "code",
   "execution_count": 3,
   "metadata": {},
   "outputs": [],
   "source": [
    "from tkinter import *  \n",
    "  \n",
    "root = Tk()  \n",
    "\n",
    "def _quit():  \n",
    "   root.quit()  \n",
    "   root.destroy()  \n",
    "   exit()\n",
    "  \n",
    "def hello():  \n",
    "    print(\"hello!\")  \n",
    "  \n",
    "# create a toplevel menu  \n",
    "menubar = Menu(root)  \n",
    "menubar.add_command(label=\"Hello!\", command=hello)  \n",
    "menubar.add_command(label=\"Quit!\", command= _quit )  \n",
    "  \n",
    "# display the menu  \n",
    "root.config(menu=menubar)  \n",
    "  \n",
    "root.mainloop()"
   ]
  },
  {
   "cell_type": "code",
   "execution_count": null,
   "metadata": {},
   "outputs": [],
   "source": []
  },
  {
   "cell_type": "code",
   "execution_count": null,
   "metadata": {},
   "outputs": [],
   "source": []
  },
  {
   "cell_type": "code",
   "execution_count": null,
   "metadata": {},
   "outputs": [],
   "source": []
  }
 ],
 "metadata": {
  "kernelspec": {
   "display_name": "Python 3 (ipykernel)",
   "language": "python",
   "name": "python3"
  },
  "language_info": {
   "codemirror_mode": {
    "name": "ipython",
    "version": 3
   },
   "file_extension": ".py",
   "mimetype": "text/x-python",
   "name": "python",
   "nbconvert_exporter": "python",
   "pygments_lexer": "ipython3",
   "version": "3.11.3"
  }
 },
 "nbformat": 4,
 "nbformat_minor": 2
}
