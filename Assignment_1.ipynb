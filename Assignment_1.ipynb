{
 "cells": [
  {
   "cell_type": "code",
   "execution_count": 1,
   "id": "58f5c78b",
   "metadata": {},
   "outputs": [
    {
     "name": "stdout",
     "output_type": "stream",
     "text": [
      "No. of sides =  3\n",
      "Perimeter =  15\n",
      "(5, 5, 5)\n"
     ]
    }
   ],
   "source": [
    "# /*single and multi and heirachical*/\n",
    "import math\n",
    "class shapes:\n",
    "    def __init__(self,sides):\n",
    "        self.sides=sides\n",
    "    def setSides(self):\n",
    "        self.sides=int(input(\"Enter no. of sides:\\n\"))\n",
    "    def printSides(self):\n",
    "        print(\"No. of sides = \", self.sides)\n",
    "class circle(shapes):\n",
    "    def __init__(self,radius):\n",
    "        self.r=radius\n",
    "    def printPerimeter(self):\n",
    "        print(\"Perimeter = \",round(2*math.pi*self.r))\n",
    "    def printArea(self):\n",
    "        print(\"Area = \",round(math.pi*self.r*self.r))\n",
    "class square(shapes):\n",
    "    def __init__(self, length):\n",
    "        self.length=length\n",
    "    def setSides(self):\n",
    "        self.sides=4\n",
    "    def printPerimeter(self):\n",
    "        print(\"Perimeter = \",4*self.length)\n",
    "    def printArea(self):\n",
    "        print(\"Area = \",round(self.length*self.length))\n",
    "class triangle(shapes):\n",
    "    def __init__(self,a,b,c):\n",
    "        self.a=a\n",
    "        self.b=b\n",
    "        self.c=c\n",
    "    def setSides(self):\n",
    "        self.sides=3\n",
    "    def setLength():\n",
    "        self.a=int(input())\n",
    "        self.b=int(input())\n",
    "        self.c=int(input())\n",
    "    def getLength(self):\n",
    "        return self.a,self.b,self.c\n",
    "        \n",
    "    def printPerimeter(self):\n",
    "        print(\"Perimeter = \",self.a+self.b+self.c)\n",
    "\n",
    "class equilateralTriangle(triangle):\n",
    "    def __init__(self,a):\n",
    "        self.a=a\n",
    "    def setLength():\n",
    "        self.a=int(input())\n",
    "    def printPerimeter(self):\n",
    "        print(\"Perimeter = \",self.a*3)\n",
    "    def getLength(self):\n",
    "        return self.a,self.a,self.a\n",
    "        \n",
    "        \n",
    "obj1 = equilateralTriangle(5)\n",
    "obj1.setSides()\n",
    "obj1.printSides()\n",
    "obj1.printPerimeter()\n",
    "print(obj1.getLength())\n",
    "#     def sides(self):\n",
    "#         self.sides=0\n",
    "# c1=circle(2)\n",
    "# c1.sides()\n",
    "# c1.printSides()\n",
    "# c1.printPerimeter()\n",
    "# c1.printArea()"
   ]
  },
  {
   "cell_type": "code",
   "execution_count": null,
   "id": "465071d7",
   "metadata": {},
   "outputs": [],
   "source": []
  },
  {
   "cell_type": "code",
   "execution_count": null,
   "id": "f20a6ee2",
   "metadata": {},
   "outputs": [],
   "source": []
  }
 ],
 "metadata": {
  "kernelspec": {
   "display_name": "Python 3 (ipykernel)",
   "language": "python",
   "name": "python3"
  },
  "language_info": {
   "codemirror_mode": {
    "name": "ipython",
    "version": 3
   },
   "file_extension": ".py",
   "mimetype": "text/x-python",
   "name": "python",
   "nbconvert_exporter": "python",
   "pygments_lexer": "ipython3",
   "version": "3.11.3"
  }
 },
 "nbformat": 4,
 "nbformat_minor": 5
}
